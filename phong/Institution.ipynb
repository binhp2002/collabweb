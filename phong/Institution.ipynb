'''import json

found = False

#print the first 5 rows of the part_000.json
with open('part_000.json') as f:
    for i in range(20):
        #print(json.loads(f.readline()))
        line = json.loads(f.readline())
        if line['display_name'] == 'Penn State DuBois':
            print("country code: ", line['country_code'])
            print("number of publish work: ", line['works_count'])
            found = True
    if found == False:
        print("It's not available")'''
        
        
'''from diophila import OpenAlex
import json

connection = OpenAlex('@gatech.edu') #input your own email here
ifilter = {"display_name": "Georgia Institute of Technology"}
x = connection.get_list_of_institutions(filters = ifilter)
x = list(x)[0]['results']
print(x)

wfilter = {'authorships.institutions.id': 'https://openalex.org/I130701444'}
for i in range(10):
    y = connection.get_list_of_institutions(filters = ifilter, pages = [i])
    print(list(y))'''
    


#pull all and save as json
from diophila import OpenAlex
import json

conn = OpenAlex('@gatech.edu') #input your own email here

work_filters = {'authorships.institutions.id':'https://openalex.org/I130701444', 'is_paratext': False, 'is_retracted': False}
page_list = list(range(1, 11))
papers = list(conn.get_list_of_works(filters = work_filters, pages = page_list, per_page = 200))

papers = [i['results'] for i in papers]
retlist = [j for i in papers for j in i]
    
with open('works_data.json', 'w') as f:
  f.write(json.dumps(retlist))
  
  

#pull a single entity
from diophila import OpenAlex
connection = OpenAlex('@gatech.edu') #input your own email here

wfilter = {'authorships.institutions.id':'https://openalex.org/I130701444'}
y = connection.get_list_of_works(filters = wfilter, pages = [10], per_page = 1)
y = (list(y)[0])['results'][0]
for i in y.items():
  print(i)
